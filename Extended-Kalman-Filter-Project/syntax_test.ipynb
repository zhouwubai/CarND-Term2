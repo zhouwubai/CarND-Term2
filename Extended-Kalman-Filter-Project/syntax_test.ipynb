{
 "cells": [
  {
   "cell_type": "code",
   "execution_count": 1,
   "metadata": {},
   "outputs": [],
   "source": [
    "#include <iostream>\n",
    "using namespace std;"
   ]
  },
  {
   "cell_type": "code",
   "execution_count": 2,
   "metadata": {},
   "outputs": [],
   "source": [
    "template<class InputIt, class UnaryFunction>\n",
    "UnaryFunction for_each(InputIt first, InputIt last, UnaryFunction f)\n",
    "{\n",
    "  for (; first != last; ++first) {\n",
    "    f(*first);\n",
    "  }\n",
    "  return f;\n",
    "}"
   ]
  },
  {
   "cell_type": "code",
   "execution_count": 3,
   "metadata": {},
   "outputs": [
    {
     "name": "stdout",
     "output_type": "stream",
     "text": [
      "5 6.2 8 9.5 11.2 "
     ]
    }
   ],
   "source": [
    "std::vector<double> v{ 1.0, 2.2, 4.0, 5.5, 7.2 };\n",
    "double r = 4.0;\n",
    "std::for_each(v.begin(), v.end(), [&](double & v) { v += r; });\n",
    "std::for_each(v.begin(), v.end(), [](double v) { std::cout << v << \" \"; });"
   ]
  },
  {
   "cell_type": "code",
   "execution_count": 4,
   "metadata": {},
   "outputs": [
    {
     "name": "stdout",
     "output_type": "stream",
     "text": [
      "(double) 5\n"
     ]
    }
   ],
   "source": [
    "*v.begin()"
   ]
  },
  {
   "cell_type": "code",
   "execution_count": 2,
   "metadata": {},
   "outputs": [],
   "source": [
    "class KalmanFilter {\n",
    "public:\n",
    "    int x_;\n",
    "    int y_;\n",
    "\n",
    "    KalmanFilter(){}\n",
    "    virtual ~KalmanFilter(){}\n",
    "};\n"
   ]
  },
  {
   "cell_type": "code",
   "execution_count": 3,
   "metadata": {},
   "outputs": [],
   "source": [
    "KalmanFilter kf_;\n",
    "kf_.x_ = 2;"
   ]
  },
  {
   "cell_type": "code",
   "execution_count": 5,
   "metadata": {},
   "outputs": [
    {
     "name": "stdout",
     "output_type": "stream",
     "text": [
      "2\n"
     ]
    }
   ],
   "source": [
    "cout << kf_.x_ <<endl;"
   ]
  },
  {
   "cell_type": "code",
   "execution_count": 8,
   "metadata": {},
   "outputs": [
    {
     "name": "stdout",
     "output_type": "stream",
     "text": [
      "0, 1, 2, 3, 4, "
     ]
    }
   ],
   "source": [
    "for (int i=0; i < 5; ++i){\n",
    "    cout << i << \", \";\n",
    "}"
   ]
  },
  {
   "cell_type": "code",
   "execution_count": 9,
   "metadata": {},
   "outputs": [
    {
     "name": "stdout",
     "output_type": "stream",
     "text": [
      "0, 1, 2, 3, 4, "
     ]
    }
   ],
   "source": [
    "for (int i=0; i < 5; i++){\n",
    "    cout << i << \", \";\n",
    "}"
   ]
  },
  {
   "cell_type": "code",
   "execution_count": 10,
   "metadata": {},
   "outputs": [],
   "source": [
    "#include <cmath>"
   ]
  },
  {
   "cell_type": "code",
   "execution_count": 23,
   "metadata": {},
   "outputs": [
    {
     "name": "stdout",
     "output_type": "stream",
     "text": [
      "0.501213\n"
     ]
    }
   ],
   "source": [
    "cout << sin(5.25e-01) <<endl;"
   ]
  },
  {
   "cell_type": "code",
   "execution_count": 13,
   "metadata": {},
   "outputs": [],
   "source": [
    "#define PI 3.14159"
   ]
  },
  {
   "cell_type": "code",
   "execution_count": 22,
   "metadata": {},
   "outputs": [
    {
     "name": "stdout",
     "output_type": "stream",
     "text": [
      "(double) 30.0803\n"
     ]
    }
   ],
   "source": [
    "5.25e-01 * 180 / PI"
   ]
  }
 ],
 "metadata": {
  "kernelspec": {
   "display_name": "xeus C++14",
   "language": "",
   "name": "xeus-cling-cpp14"
  },
  "language_info": {
   "codemirror_mode": "text/x-c++src",
   "file_extension": ".cpp",
   "mimetype": "text/x-c++src",
   "name": "c++",
   "version": ""
  }
 },
 "nbformat": 4,
 "nbformat_minor": 2
}
